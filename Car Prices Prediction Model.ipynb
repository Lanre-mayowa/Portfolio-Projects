{
 "cells": [
  {
   "cell_type": "code",
   "execution_count": 1,
   "id": "8a9d9f9b",
   "metadata": {},
   "outputs": [],
   "source": [
    "#Import Libraries\n",
    "\n",
    "import pandas as pd\n",
    "import numpy as np\n",
    "import matplotlib.pyplot as plt\n",
    "import seaborn as sns\n",
    "from sklearn import preprocessing, svm\n",
    "from sklearn.model_selection import train_test_split\n",
    "from sklearn.linear_model import LinearRegression"
   ]
  },
  {
   "cell_type": "code",
   "execution_count": 2,
   "id": "bd60bf5d",
   "metadata": {},
   "outputs": [],
   "source": [
    "#Import Dataset\n",
    "\n",
    "df = pd.read_csv('CarPricePrediction.csv')"
   ]
  },
  {
   "cell_type": "code",
   "execution_count": 3,
   "id": "9872bb01",
   "metadata": {},
   "outputs": [
    {
     "data": {
      "text/html": [
       "<div>\n",
       "<style scoped>\n",
       "    .dataframe tbody tr th:only-of-type {\n",
       "        vertical-align: middle;\n",
       "    }\n",
       "\n",
       "    .dataframe tbody tr th {\n",
       "        vertical-align: top;\n",
       "    }\n",
       "\n",
       "    .dataframe thead th {\n",
       "        text-align: right;\n",
       "    }\n",
       "</style>\n",
       "<table border=\"1\" class=\"dataframe\">\n",
       "  <thead>\n",
       "    <tr style=\"text-align: right;\">\n",
       "      <th></th>\n",
       "      <th>wheelbase</th>\n",
       "      <th>carlength</th>\n",
       "      <th>carwidth</th>\n",
       "      <th>carheight</th>\n",
       "      <th>curbweight</th>\n",
       "      <th>enginesize</th>\n",
       "      <th>boreratio</th>\n",
       "      <th>stroke</th>\n",
       "      <th>compressionratio</th>\n",
       "      <th>horsepower</th>\n",
       "      <th>peakrpm</th>\n",
       "      <th>citympg</th>\n",
       "      <th>highwaympg</th>\n",
       "      <th>price</th>\n",
       "    </tr>\n",
       "  </thead>\n",
       "  <tbody>\n",
       "    <tr>\n",
       "      <th>0</th>\n",
       "      <td>88.6</td>\n",
       "      <td>168.8</td>\n",
       "      <td>64.1</td>\n",
       "      <td>48.8</td>\n",
       "      <td>2548</td>\n",
       "      <td>130</td>\n",
       "      <td>3.47</td>\n",
       "      <td>2.68</td>\n",
       "      <td>9.0</td>\n",
       "      <td>111</td>\n",
       "      <td>5000</td>\n",
       "      <td>21</td>\n",
       "      <td>27</td>\n",
       "      <td>13495.0</td>\n",
       "    </tr>\n",
       "    <tr>\n",
       "      <th>1</th>\n",
       "      <td>88.6</td>\n",
       "      <td>168.8</td>\n",
       "      <td>64.1</td>\n",
       "      <td>48.8</td>\n",
       "      <td>2548</td>\n",
       "      <td>130</td>\n",
       "      <td>3.47</td>\n",
       "      <td>2.68</td>\n",
       "      <td>9.0</td>\n",
       "      <td>111</td>\n",
       "      <td>5000</td>\n",
       "      <td>21</td>\n",
       "      <td>27</td>\n",
       "      <td>16500.0</td>\n",
       "    </tr>\n",
       "    <tr>\n",
       "      <th>2</th>\n",
       "      <td>94.5</td>\n",
       "      <td>171.2</td>\n",
       "      <td>65.5</td>\n",
       "      <td>52.4</td>\n",
       "      <td>2823</td>\n",
       "      <td>152</td>\n",
       "      <td>2.68</td>\n",
       "      <td>3.47</td>\n",
       "      <td>9.0</td>\n",
       "      <td>154</td>\n",
       "      <td>5000</td>\n",
       "      <td>19</td>\n",
       "      <td>26</td>\n",
       "      <td>16500.0</td>\n",
       "    </tr>\n",
       "    <tr>\n",
       "      <th>3</th>\n",
       "      <td>99.8</td>\n",
       "      <td>176.6</td>\n",
       "      <td>66.2</td>\n",
       "      <td>54.3</td>\n",
       "      <td>2337</td>\n",
       "      <td>109</td>\n",
       "      <td>3.19</td>\n",
       "      <td>3.40</td>\n",
       "      <td>10.0</td>\n",
       "      <td>102</td>\n",
       "      <td>5500</td>\n",
       "      <td>24</td>\n",
       "      <td>30</td>\n",
       "      <td>13950.0</td>\n",
       "    </tr>\n",
       "    <tr>\n",
       "      <th>4</th>\n",
       "      <td>99.4</td>\n",
       "      <td>176.6</td>\n",
       "      <td>66.4</td>\n",
       "      <td>54.3</td>\n",
       "      <td>2824</td>\n",
       "      <td>136</td>\n",
       "      <td>3.19</td>\n",
       "      <td>3.40</td>\n",
       "      <td>8.0</td>\n",
       "      <td>115</td>\n",
       "      <td>5500</td>\n",
       "      <td>18</td>\n",
       "      <td>22</td>\n",
       "      <td>17450.0</td>\n",
       "    </tr>\n",
       "  </tbody>\n",
       "</table>\n",
       "</div>"
      ],
      "text/plain": [
       "   wheelbase  carlength  carwidth  carheight  curbweight  enginesize  \\\n",
       "0       88.6      168.8      64.1       48.8        2548         130   \n",
       "1       88.6      168.8      64.1       48.8        2548         130   \n",
       "2       94.5      171.2      65.5       52.4        2823         152   \n",
       "3       99.8      176.6      66.2       54.3        2337         109   \n",
       "4       99.4      176.6      66.4       54.3        2824         136   \n",
       "\n",
       "   boreratio  stroke  compressionratio  horsepower  peakrpm  citympg  \\\n",
       "0       3.47    2.68               9.0         111     5000       21   \n",
       "1       3.47    2.68               9.0         111     5000       21   \n",
       "2       2.68    3.47               9.0         154     5000       19   \n",
       "3       3.19    3.40              10.0         102     5500       24   \n",
       "4       3.19    3.40               8.0         115     5500       18   \n",
       "\n",
       "   highwaympg    price  \n",
       "0          27  13495.0  \n",
       "1          27  16500.0  \n",
       "2          26  16500.0  \n",
       "3          30  13950.0  \n",
       "4          22  17450.0  "
      ]
     },
     "execution_count": 3,
     "metadata": {},
     "output_type": "execute_result"
    }
   ],
   "source": [
    "df.head()"
   ]
  },
  {
   "cell_type": "code",
   "execution_count": 10,
   "id": "9c3d6a4b",
   "metadata": {},
   "outputs": [],
   "source": [
    "#clean data and check for missiing or null values\n",
    "df.fillna(method ='ffill', inplace = True)"
   ]
  },
  {
   "cell_type": "code",
   "execution_count": 11,
   "id": "1bf9a2b7",
   "metadata": {},
   "outputs": [],
   "source": [
    "#Defining Independent and Dependent Variables\n",
    "\n",
    "x=df.drop(['price'],axis=1).values\n",
    "y=df['price'].values"
   ]
  },
  {
   "cell_type": "code",
   "execution_count": 12,
   "id": "a3a7f433",
   "metadata": {},
   "outputs": [
    {
     "name": "stdout",
     "output_type": "stream",
     "text": [
      "[[  88.6  168.8   64.1 ... 5000.    21.    27. ]\n",
      " [  88.6  168.8   64.1 ... 5000.    21.    27. ]\n",
      " [  94.5  171.2   65.5 ... 5000.    19.    26. ]\n",
      " ...\n",
      " [ 109.1  188.8   68.9 ... 5500.    18.    23. ]\n",
      " [ 109.1  188.8   68.9 ... 4800.    26.    27. ]\n",
      " [ 109.1  188.8   68.9 ... 5400.    19.    25. ]]\n"
     ]
    }
   ],
   "source": [
    "#Check independent Variables are correct\n",
    "\n",
    "print(x)"
   ]
  },
  {
   "cell_type": "code",
   "execution_count": 13,
   "id": "f214d77d",
   "metadata": {},
   "outputs": [
    {
     "name": "stdout",
     "output_type": "stream",
     "text": [
      "[13495.    16500.    16500.    13950.    17450.    15250.    17710.\n",
      " 18920.    23875.    17859.167 16430.    16925.    20970.    21105.\n",
      " 24565.    30760.    41315.    36880.     5151.     6295.     6575.\n",
      "  5572.     6377.     7957.     6229.     6692.     7609.     8558.\n",
      "  8921.    12964.     6479.     6855.     5399.     6529.     7129.\n",
      "  7295.     7295.     7895.     9095.     8845.    10295.    12945.\n",
      " 10345.     6785.     8916.5    8916.5   11048.    32250.    35550.\n",
      " 36000.     5195.     6095.     6795.     6695.     7395.    10945.\n",
      " 11845.    13645.    15645.     8845.     8495.    10595.    10245.\n",
      " 10795.    11245.    18280.    18344.    25552.    28248.    28176.\n",
      " 31600.    34184.    35056.    40960.    45400.    16503.     5389.\n",
      "  6189.     6669.     7689.     9959.     8499.    12629.    14869.\n",
      " 14489.     6989.     8189.     9279.     9279.     5499.     7099.\n",
      "  6649.     6849.     7349.     7299.     7799.     7499.     7999.\n",
      "  8249.     8949.     9549.    13499.    14399.    13499.    17199.\n",
      " 19699.    18399.    11900.    13200.    12440.    13860.    15580.\n",
      " 16900.    16695.    17075.    16630.    17950.    18150.     5572.\n",
      "  7957.     6229.     6692.     7609.     8921.    12764.    22018.\n",
      " 32528.    34028.    37028.    31400.5    9295.     9895.    11850.\n",
      " 12170.    15040.    15510.    18150.    18620.     5118.     7053.\n",
      "  7603.     7126.     7775.     9960.     9233.    11259.     7463.\n",
      " 10198.     8013.    11694.     5348.     6338.     6488.     6918.\n",
      "  7898.     8778.     6938.     7198.     7898.     7788.     7738.\n",
      "  8358.     9258.     8058.     8238.     9298.     9538.     8449.\n",
      "  9639.     9989.    11199.    11549.    17669.     8948.    10698.\n",
      "  9988.    10898.    11248.    16558.    15998.    15690.    15750.\n",
      "  7775.     7975.     7995.     8195.     8495.     9495.     9995.\n",
      " 11595.     9980.    13295.    13845.    12290.    12940.    13415.\n",
      " 15985.    16515.    18420.    18950.    16845.    19045.    21485.\n",
      " 22470.    22625.   ]\n"
     ]
    }
   ],
   "source": [
    "#Check dependent Variable\n",
    "print(y)"
   ]
  },
  {
   "cell_type": "code",
   "execution_count": 38,
   "id": "f78aba82",
   "metadata": {},
   "outputs": [],
   "source": [
    "#Dataset split into training and test set\n",
    "x_train,x_test,y_train,y_test=train_test_split(x,y,test_size=0.28,random_state = 0)"
   ]
  },
  {
   "cell_type": "code",
   "execution_count": 39,
   "id": "51d1d1bd",
   "metadata": {},
   "outputs": [
    {
     "data": {
      "text/plain": [
       "LinearRegression()"
      ]
     },
     "execution_count": 39,
     "metadata": {},
     "output_type": "execute_result"
    }
   ],
   "source": [
    "# model trained on training set\n",
    "\n",
    "ml=LinearRegression()\n",
    "ml.fit(x_train,y_train)"
   ]
  },
  {
   "cell_type": "code",
   "execution_count": 40,
   "id": "5bd5969f",
   "metadata": {},
   "outputs": [
    {
     "name": "stdout",
     "output_type": "stream",
     "text": [
      "[ 6232.94806782 19810.20285387 14890.44164765 -1011.4618714\n",
      " 11119.66457211 13588.85095819  5776.14075816  5979.48231192\n",
      " 23436.1052571   8262.19837645 16063.63187428 38422.02216494\n",
      "  9471.9373867  14417.23340769  5880.47713631 13215.49511544\n",
      " 11055.15727344 18649.73792663 10133.62265825  6268.75809477\n",
      " 10749.27788463 18020.71950848 10848.32537477 13690.94044644\n",
      " 21597.70257333  8278.2661912   6852.90472085 17749.35528066\n",
      "  6832.4621927   5681.49103049  9602.03452898 10989.44024056\n",
      " 21521.14864675  8260.0612671   5824.41631404 26711.79277383\n",
      " 10331.37853798 16888.09307712  6728.02929033 37124.11788258\n",
      "  5778.38764806 15529.49745768 30431.64479226 17682.62715594\n",
      " 11525.0306786   7208.5197719   7036.20505728 15640.95699341\n",
      " 10205.45957458  9794.5461354  18940.67073878  6863.71034647\n",
      "  5815.15323537  9770.09590652 19472.49277494 23444.29987406\n",
      " 12441.64471522 17130.77020695]\n"
     ]
    }
   ],
   "source": [
    "#predicting the Test set results\n",
    "y_pred=ml.predict(x_test)\n",
    "print(y_pred)"
   ]
  },
  {
   "cell_type": "code",
   "execution_count": 41,
   "id": "a212f343",
   "metadata": {},
   "outputs": [
    {
     "data": {
      "text/plain": [
       "array([13398.54001939])"
      ]
     },
     "execution_count": 41,
     "metadata": {},
     "output_type": "execute_result"
    }
   ],
   "source": [
    "#Running a prediction test on initial dataset to show fit\n",
    "\n",
    "ml.predict([[88.6,168.8,64.1,48.8,2548,130,3.47,2.68,9.0,111,5000,21,27]])"
   ]
  },
  {
   "cell_type": "code",
   "execution_count": 42,
   "id": "e0d54367",
   "metadata": {},
   "outputs": [
    {
     "data": {
      "text/plain": [
       "0.8284226007102243"
      ]
     },
     "execution_count": 42,
     "metadata": {},
     "output_type": "execute_result"
    }
   ],
   "source": [
    "#Evalauting model for accuracy and correlation\n",
    "\n",
    "from sklearn.metrics import r2_score\n",
    "r2_score(y_test,y_pred)"
   ]
  },
  {
   "cell_type": "code",
   "execution_count": 43,
   "id": "daf8b376",
   "metadata": {},
   "outputs": [
    {
     "data": {
      "text/plain": [
       "Text(0.5, 1.0, 'Actual VS. Predicted')"
      ]
     },
     "execution_count": 43,
     "metadata": {},
     "output_type": "execute_result"
    },
    {
     "data": {
      "image/png": "[encoded data removed]",
      "text/plain": [
       "<Figure size 432x288 with 1 Axes>"
      ]
     },
     "metadata": {
      "needs_background": "light"
     },
     "output_type": "display_data"
    }
   ],
   "source": [
    "# plottting the result of the evaluation to view correlation\n",
    "\n",
    "plt.figure \n",
    "plt.scatter(y_test,y_pred)\n",
    "plt.xlabel('Actual')\n",
    "plt.ylabel('Predicted')\n",
    "plt.title('Actual VS. Predicted')"
   ]
  },
  {
   "cell_type": "code",
   "execution_count": 44,
   "id": "1aed84d4",
   "metadata": {},
   "outputs": [
    {
     "data": {
      "text/html": [
       "<div>\n",
       "<style scoped>\n",
       "    .dataframe tbody tr th:only-of-type {\n",
       "        vertical-align: middle;\n",
       "    }\n",
       "\n",
       "    .dataframe tbody tr th {\n",
       "        vertical-align: top;\n",
       "    }\n",
       "\n",
       "    .dataframe thead th {\n",
       "        text-align: right;\n",
       "    }\n",
       "</style>\n",
       "<table border=\"1\" class=\"dataframe\">\n",
       "  <thead>\n",
       "    <tr style=\"text-align: right;\">\n",
       "      <th></th>\n",
       "      <th>Actual Values</th>\n",
       "      <th>Predicted Value</th>\n",
       "      <th>Difference</th>\n",
       "    </tr>\n",
       "  </thead>\n",
       "  <tbody>\n",
       "    <tr>\n",
       "      <th>0</th>\n",
       "      <td>6795.0</td>\n",
       "      <td>6232.948068</td>\n",
       "      <td>562.051932</td>\n",
       "    </tr>\n",
       "    <tr>\n",
       "      <th>1</th>\n",
       "      <td>15750.0</td>\n",
       "      <td>19810.202854</td>\n",
       "      <td>-4060.202854</td>\n",
       "    </tr>\n",
       "    <tr>\n",
       "      <th>2</th>\n",
       "      <td>15250.0</td>\n",
       "      <td>14890.441648</td>\n",
       "      <td>359.558352</td>\n",
       "    </tr>\n",
       "    <tr>\n",
       "      <th>3</th>\n",
       "      <td>5151.0</td>\n",
       "      <td>-1011.461871</td>\n",
       "      <td>6162.461871</td>\n",
       "    </tr>\n",
       "    <tr>\n",
       "      <th>4</th>\n",
       "      <td>9995.0</td>\n",
       "      <td>11119.664572</td>\n",
       "      <td>-1124.664572</td>\n",
       "    </tr>\n",
       "    <tr>\n",
       "      <th>5</th>\n",
       "      <td>11199.0</td>\n",
       "      <td>13588.850958</td>\n",
       "      <td>-2389.850958</td>\n",
       "    </tr>\n",
       "    <tr>\n",
       "      <th>6</th>\n",
       "      <td>5389.0</td>\n",
       "      <td>5776.140758</td>\n",
       "      <td>-387.140758</td>\n",
       "    </tr>\n",
       "    <tr>\n",
       "      <th>7</th>\n",
       "      <td>7898.0</td>\n",
       "      <td>5979.482312</td>\n",
       "      <td>1918.517688</td>\n",
       "    </tr>\n",
       "    <tr>\n",
       "      <th>8</th>\n",
       "      <td>17199.0</td>\n",
       "      <td>23436.105257</td>\n",
       "      <td>-6237.105257</td>\n",
       "    </tr>\n",
       "    <tr>\n",
       "      <th>9</th>\n",
       "      <td>6529.0</td>\n",
       "      <td>8262.198376</td>\n",
       "      <td>-1733.198376</td>\n",
       "    </tr>\n",
       "    <tr>\n",
       "      <th>10</th>\n",
       "      <td>20970.0</td>\n",
       "      <td>16063.631874</td>\n",
       "      <td>4906.368126</td>\n",
       "    </tr>\n",
       "    <tr>\n",
       "      <th>11</th>\n",
       "      <td>31400.5</td>\n",
       "      <td>38422.022165</td>\n",
       "      <td>-7021.522165</td>\n",
       "    </tr>\n",
       "    <tr>\n",
       "      <th>12</th>\n",
       "      <td>10945.0</td>\n",
       "      <td>9471.937387</td>\n",
       "      <td>1473.062613</td>\n",
       "    </tr>\n",
       "    <tr>\n",
       "      <th>13</th>\n",
       "      <td>18344.0</td>\n",
       "      <td>14417.233408</td>\n",
       "      <td>3926.766592</td>\n",
       "    </tr>\n",
       "    <tr>\n",
       "      <th>14</th>\n",
       "      <td>8916.5</td>\n",
       "      <td>5880.477136</td>\n",
       "      <td>3036.022864</td>\n",
       "    </tr>\n",
       "    <tr>\n",
       "      <th>15</th>\n",
       "      <td>9989.0</td>\n",
       "      <td>13215.495115</td>\n",
       "      <td>-3226.495115</td>\n",
       "    </tr>\n",
       "    <tr>\n",
       "      <th>16</th>\n",
       "      <td>9295.0</td>\n",
       "      <td>11055.157273</td>\n",
       "      <td>-1760.157273</td>\n",
       "    </tr>\n",
       "    <tr>\n",
       "      <th>17</th>\n",
       "      <td>18920.0</td>\n",
       "      <td>18649.737927</td>\n",
       "      <td>270.262073</td>\n",
       "    </tr>\n",
       "    <tr>\n",
       "      <th>18</th>\n",
       "      <td>7895.0</td>\n",
       "      <td>10133.622658</td>\n",
       "      <td>-2238.622658</td>\n",
       "    </tr>\n",
       "    <tr>\n",
       "      <th>19</th>\n",
       "      <td>6488.0</td>\n",
       "      <td>6268.758095</td>\n",
       "      <td>219.241905</td>\n",
       "    </tr>\n",
       "  </tbody>\n",
       "</table>\n",
       "</div>"
      ],
      "text/plain": [
       "    Actual Values  Predicted Value   Difference\n",
       "0          6795.0      6232.948068   562.051932\n",
       "1         15750.0     19810.202854 -4060.202854\n",
       "2         15250.0     14890.441648   359.558352\n",
       "3          5151.0     -1011.461871  6162.461871\n",
       "4          9995.0     11119.664572 -1124.664572\n",
       "5         11199.0     13588.850958 -2389.850958\n",
       "6          5389.0      5776.140758  -387.140758\n",
       "7          7898.0      5979.482312  1918.517688\n",
       "8         17199.0     23436.105257 -6237.105257\n",
       "9          6529.0      8262.198376 -1733.198376\n",
       "10        20970.0     16063.631874  4906.368126\n",
       "11        31400.5     38422.022165 -7021.522165\n",
       "12        10945.0      9471.937387  1473.062613\n",
       "13        18344.0     14417.233408  3926.766592\n",
       "14         8916.5      5880.477136  3036.022864\n",
       "15         9989.0     13215.495115 -3226.495115\n",
       "16         9295.0     11055.157273 -1760.157273\n",
       "17        18920.0     18649.737927   270.262073\n",
       "18         7895.0     10133.622658 -2238.622658\n",
       "19         6488.0      6268.758095   219.241905"
      ]
     },
     "execution_count": 44,
     "metadata": {},
     "output_type": "execute_result"
    }
   ],
   "source": [
    "#running the regression model on the intial data \n",
    "\n",
    "pred_y_df=pd.DataFrame({'Actual Values':y_test,'Predicted Value':y_pred, 'Difference':y_test-y_pred})\n",
    "pred_y_df[0:20]"
   ]
  },
  {
   "cell_type": "code",
   "execution_count": null,
   "id": "b766fb64",
   "metadata": {},
   "outputs": [],
   "source": []
  },
  {
   "cell_type": "code",
   "execution_count": null,
   "id": "ac5924e8",
   "metadata": {},
   "outputs": [],
   "source": []
  }
 ],
 "metadata": {
  "kernelspec": {
   "display_name": "Python 3 (ipykernel)",
   "language": "python",
   "name": "python3"
  },
  "language_info": {
   "codemirror_mode": {
    "name": "ipython",
    "version": 3
   },
   "file_extension": ".py",
   "mimetype": "text/x-python",
   "name": "python",
   "nbconvert_exporter": "python",
   "pygments_lexer": "ipython3",
   "version": "3.9.12"
  }
 },
 "nbformat": 4,
 "nbformat_minor": 5
}
